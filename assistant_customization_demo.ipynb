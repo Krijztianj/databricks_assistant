{
  "cells": [
    {
      "cell_type": "markdown",
      "metadata": {},
      "source": [
        "# Databricks Assistant Customization Demo\n",
        "\n",
        "This notebook shows how customizing the Databricks Assistant changes the way it generates SQL and Python code.\n",
        "We will run everything on **Serverless SQL** with a simple demo dataset."
      ]
    },
    {
      "cell_type": "code",
      "execution_count": null,
      "metadata": {},
      "outputs": [],
      "source": [
        "-- Create a demo table\n",
        "CREATE OR REPLACE TEMP VIEW sales_demo AS\n",
        "SELECT 1 AS id, '2025-09-01' AS sale_date, 100.2345 AS amount UNION ALL\n",
        "SELECT 2, '2025-09-02', 200.4567 UNION ALL\n",
        "SELECT 3, '2025-09-03', 300.7890;"
      ]
    },
    {
      "cell_type": "markdown",
      "metadata": {},
      "source": [
        "## SQL Example \u2013 Date Formatting\n",
        "\n",
        "**Before customization**: Raw query suggested by Assistant."
      ]
    },
    {
      "cell_type": "code",
      "execution_count": null,
      "metadata": {},
      "outputs": [],
      "source": [
        "SELECT sale_date, amount\n",
        "FROM sales_demo;"
      ]
    },
    {
      "cell_type": "markdown",
      "metadata": {},
      "source": [
        "**After customization** (instruction: _Always format dates as `YYYY-MM` and round monetary values to 2 decimals_):"
      ]
    },
    {
      "cell_type": "code",
      "execution_count": null,
      "metadata": {},
      "outputs": [],
      "source": [
        "SELECT DATE_FORMAT(sale_date, 'yyyy-MM') AS sale_month,\n",
        "       ROUND(amount, 2) AS amount\n",
        "FROM sales_demo;"
      ]
    },
    {
      "cell_type": "markdown",
      "metadata": {},
      "source": [
        "## Python Example \u2013 Visualizations\n",
        "\n",
        "**Before customization**: Assistant defaults to a simple display."
      ]
    },
    {
      "cell_type": "code",
      "execution_count": null,
      "metadata": {},
      "outputs": [],
      "source": [
        "df = spark.sql(\"SELECT sale_date, amount FROM sales_demo\")\n",
        "display(df)  # default table output"
      ]
    },
    {
      "cell_type": "markdown",
      "metadata": {},
      "source": [
        "**After customization** (instruction: _Always use Plotly for visualizations_):"
      ]
    },
    {
      "cell_type": "code",
      "execution_count": null,
      "metadata": {},
      "outputs": [],
      "source": [
        "import plotly.express as px\n",
        "\n",
        "df = spark.sql(\"SELECT sale_date, amount FROM sales_demo\").toPandas()\n",
        "fig = px.bar(df, x=\"sale_date\", y=\"amount\", title=\"Sales by Date\")\n",
        "fig.show()"
      ]
    },
    {
      "cell_type": "markdown",
      "metadata": {},
      "source": [
        "## Coding Style Example\n",
        "\n",
        "**Before customization**: Assistant suggests camelCase variables."
      ]
    },
    {
      "cell_type": "code",
      "execution_count": null,
      "metadata": {},
      "outputs": [],
      "source": [
        "totalSales = df[\"amount\"].sum()\n",
        "totalSales"
      ]
    },
    {
      "cell_type": "markdown",
      "metadata": {},
      "source": [
        "**After customization** (instruction: _Always use snake_case for variable names_):"
      ]
    },
    {
      "cell_type": "code",
      "execution_count": null,
      "metadata": {},
      "outputs": [],
      "source": [
        "total_sales = df[\"amount\"].sum()\n",
        "total_sales"
      ]
    },
    {
      "cell_type": "markdown",
      "metadata": {},
      "source": [
        "## Wrap-up\n",
        "This demo showed how customizing the Databricks Assistant affects:\n",
        "- SQL query formatting (dates, decimals)\n",
        "- Python libraries for visualization\n",
        "- Coding style and conventions\n",
        "\n",
        "By tailoring the Assistant, you can align AI outputs with your team\u2019s **standards and best practices**."
      ]
    }
  ],
  "metadata": {
    "kernelspec": {
      "display_name": "Python 3",
      "language": "python",
      "name": "python3"
    },
    "language_info": {
      "name": "python",
      "version": "3.9"
    }
  },
  "nbformat": 4,
  "nbformat_minor": 5
}
